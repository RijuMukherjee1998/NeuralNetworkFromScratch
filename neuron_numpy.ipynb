{
 "cells": [
  {
   "cell_type": "code",
   "execution_count": null,
   "id": "b2c5ba6f-1423-4fab-a4b2-986e6e2a8c8d",
   "metadata": {},
   "outputs": [],
   "source": [
    "# Dot Product between 2 vectors a and b\n",
    "# vec(a) . vec(b) = Summation([i = 1 to n] a(i)*b(i))\n",
    "#                 = a1.b1 + a2.b2 + ... + an.bn \n",
    "# For Vector dot product both vectors should be of the same size."
   ]
  },
  {
   "cell_type": "code",
   "execution_count": 2,
   "id": "9dedc55c-c45e-494a-ae81-198479e46670",
   "metadata": {},
   "outputs": [
    {
     "name": "stdout",
     "output_type": "stream",
     "text": [
      "Output =  4.8\n"
     ]
    }
   ],
   "source": [
    "# Singular neuron\n",
    "import numpy as np\n",
    "inputs = [1, 2, 3, 2.5]\n",
    "weights = [0.2, 0.8, -0.5, 1]\n",
    "bias = 2.0\n",
    "\n",
    "output = np.dot(weights, inputs) + bias\n",
    "print(\"Output = \",output)\n"
   ]
  },
  {
   "cell_type": "code",
   "execution_count": 4,
   "id": "aba46193-8b88-4a68-8395-0265eb692684",
   "metadata": {},
   "outputs": [
    {
     "name": "stdout",
     "output_type": "stream",
     "text": [
      "Layer1 Output =  [4.8   1.21  2.385]\n"
     ]
    }
   ],
   "source": [
    "# 3 neurons with 4 inputs each (Multiple neurons)\n",
    "inputs = [1, 2, 3, 2.5]\n",
    "\n",
    "weights_list = [[0.2, 0.8, -0.5, 1],  #----> Neuron1\n",
    "           [0.5, -0.91, 0.26, -0.5], #----> Neuron2\n",
    "           [-0.26, -0.27, 0.17, 0.87]] #---> Neuron3\n",
    "\n",
    "biases = [2.0, 3.0, 0.5]\n",
    "\n",
    "#Dot product happens between each of the weight vector of a neuron and the input vector fed to the neuron\n",
    "#Really makes it easy to write and visualize.\n",
    "layer_outputs = np.dot(weights_list, inputs) + biases\n",
    "\n",
    "print(\"Layer1 Output = \", layer_outputs)"
   ]
  },
  {
   "cell_type": "code",
   "execution_count": null,
   "id": "cf0d52b9-7bcf-4b65-b330-23d190240849",
   "metadata": {},
   "outputs": [],
   "source": []
  }
 ],
 "metadata": {
  "kernelspec": {
   "display_name": "Python 3 (ipykernel)",
   "language": "python",
   "name": "python3"
  },
  "language_info": {
   "codemirror_mode": {
    "name": "ipython",
    "version": 3
   },
   "file_extension": ".py",
   "mimetype": "text/x-python",
   "name": "python",
   "nbconvert_exporter": "python",
   "pygments_lexer": "ipython3",
   "version": "3.9.1"
  }
 },
 "nbformat": 4,
 "nbformat_minor": 5
}
