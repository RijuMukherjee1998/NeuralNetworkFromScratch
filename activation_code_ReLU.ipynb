{
 "cells": [
  {
   "cell_type": "code",
   "execution_count": 5,
   "id": "d3fc0ba9-bedf-4823-861d-c8f4f5af54eb",
   "metadata": {},
   "outputs": [
    {
     "name": "stdout",
     "output_type": "stream",
     "text": [
      "[0, 2, -1, 3.3, -2.7, 1.1, 2.2, -100]\n"
     ]
    }
   ],
   "source": [
    "inputs = [0, 2, -1, 3.3, -2.7, 1.1, 2.2, -100]\n",
    "print(inputs)"
   ]
  },
  {
   "cell_type": "code",
   "execution_count": 6,
   "id": "25623826-d5b3-46a0-84c2-c3b3f8b176d0",
   "metadata": {},
   "outputs": [],
   "source": [
    "def reLU_activation(inputs):\n",
    "    output = []\n",
    "    for i in inputs:\n",
    "        output.append(max(0,i))\n",
    "    return output\n",
    "        "
   ]
  },
  {
   "cell_type": "code",
   "execution_count": 7,
   "id": "b20c6f05-2542-4ea0-af9a-21123b974859",
   "metadata": {},
   "outputs": [
    {
     "name": "stdout",
     "output_type": "stream",
     "text": [
      "[0, 2, 0, 3.3, 0, 1.1, 2.2, 0]\n"
     ]
    }
   ],
   "source": [
    "outputs = reLU_activation(inputs)\n",
    "print(outputs)"
   ]
  },
  {
   "cell_type": "code",
   "execution_count": 9,
   "id": "c9bd06b0-e2de-48d0-9c2e-f19b079fcd40",
   "metadata": {},
   "outputs": [
    {
     "name": "stdout",
     "output_type": "stream",
     "text": [
      "[0.  2.  0.  3.3 0.  1.1 2.2 0. ]\n"
     ]
    }
   ],
   "source": [
    "# using numpy to make it even smaller\n",
    "\n",
    "import numpy as np\n",
    "def reLU_activation_numpy(inputs):\n",
    "    outputs = np.maximum(0, inputs)\n",
    "    return outputs\n",
    "\n",
    "outputs = reLU_activation_numpy(inputs)\n",
    "print(outputs)"
   ]
  },
  {
   "cell_type": "code",
   "execution_count": 11,
   "id": "8205c554-335f-48ec-8e5c-5919dfe17e58",
   "metadata": {},
   "outputs": [],
   "source": [
    "# Dense Layer with the activation function\n",
    "import numpy as np\n",
    "import nnfs\n",
    "from nnfs.datasets import spiral_data\n",
    "\n",
    "nnfs.init()\n",
    "\n",
    "class Layer_Dense:\n",
    "    def __init__(self, n_inputs, n_neurons):\n",
    "        #Initialize weights and biases\n",
    "        #np.random.randn is a gaussian distribution which will provide values between -1 and 1 and 0.01 is multiplied to make the values smaller \n",
    "        # and close to each other thus fitting of data will be easier during training\n",
    "        self.weights = 0.01 * np.random.randn(n_inputs, n_neurons) #To avoid transposing every time (inputs, neurons) is used rather than (neurons, inputs) \n",
    "        self.biases = np.zeros((1, n_neurons)) #default bias initialization\n",
    "        pass\n",
    "        \n",
    "    def forward(self, inputs):\n",
    "        #Calculate output values from inputs,weights and biases\n",
    "        print(\"Weights are = \",self.weights)\n",
    "        print(\"Biases are = \",self.biases)\n",
    "        self.output = np.dot(inputs, self.weights) + self.biases\n",
    "        pass\n",
    "class Activation_ReLU:\n",
    "    def activate(self, inputs):\n",
    "        self.output = np.maximum(0,inputs)"
   ]
  },
  {
   "cell_type": "code",
   "execution_count": 12,
   "id": "a8837070-93d0-45f8-b12f-7931cb5d0c66",
   "metadata": {},
   "outputs": [
    {
     "name": "stdout",
     "output_type": "stream",
     "text": [
      "Weights are =  [[-0.01306527  0.01658131 -0.00118164]\n",
      " [-0.00680178  0.00666383 -0.0046072 ]]\n",
      "Biases are =  [[0. 0. 0.]]\n",
      "[[ 0.0000000e+00  0.0000000e+00  0.0000000e+00]\n",
      " [-1.0475188e-04  1.1395361e-04 -4.7983500e-05]\n",
      " [-2.7414842e-04  3.1729150e-04 -8.6921798e-05]\n",
      " [-4.2188365e-04  5.2666257e-04 -5.5912682e-05]\n",
      " [-5.7707680e-04  7.1401405e-04 -8.9430439e-05]]\n",
      "[[0.         0.         0.        ]\n",
      " [0.         0.00011395 0.        ]\n",
      " [0.         0.00031729 0.        ]\n",
      " [0.         0.00052666 0.        ]\n",
      " [0.         0.00071401 0.        ]]\n"
     ]
    }
   ],
   "source": [
    "#Create dataset\n",
    "X, y = spiral_data(samples=100, classes=3)\n",
    "\n",
    "#creating a dense layer with 2 input feature(size of each input = 2) and 3 output values(3 neurons)\n",
    "neurons_layer1 = 3\n",
    "dense_layer1 = Layer_Dense(len(X[0]), neurons_layer1)\n",
    "\n",
    "dense_layer1.forward(X[:5]) #Takes only 5 rows of data or input-batch of 5 data rows \n",
    "\n",
    "print(dense_layer1.output) #For every input batch what is the value from each neuron(3 neurons (columns))\n",
    "\n",
    "activation1 = Activation_ReLU() #Activation function\n",
    "\n",
    "activation1.activate(dense_layer1.output) #Activates the neurons using ReLU\n",
    "\n",
    "print(activation1.output) # output from the activation function"
   ]
  },
  {
   "cell_type": "code",
   "execution_count": null,
   "id": "fb736410-b02a-486d-a42a-790ff87f6f60",
   "metadata": {},
   "outputs": [],
   "source": []
  }
 ],
 "metadata": {
  "kernelspec": {
   "display_name": "Python 3 (ipykernel)",
   "language": "python",
   "name": "python3"
  },
  "language_info": {
   "codemirror_mode": {
    "name": "ipython",
    "version": 3
   },
   "file_extension": ".py",
   "mimetype": "text/x-python",
   "name": "python",
   "nbconvert_exporter": "python",
   "pygments_lexer": "ipython3",
   "version": "3.9.1"
  }
 },
 "nbformat": 4,
 "nbformat_minor": 5
}
