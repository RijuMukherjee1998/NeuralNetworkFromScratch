{
 "cells": [
  {
   "cell_type": "code",
   "execution_count": 6,
   "id": "cd2fbe61-0180-4e9c-83c7-2024be2e11fd",
   "metadata": {},
   "outputs": [
    {
     "name": "stdout",
     "output_type": "stream",
     "text": [
      "[[1.0, 2.0, 3.0, 2.5], [2.0, 5.0, -1.0, 2.0], [-1.5, 2.7, 3.3, -0.8]]\n",
      "[[0.2, 0.8, -0.5, 1.0], [0.5, -0.91, 0.26, -0.5], [-0.26, -0.27, 0.17, 0.87]]\n"
     ]
    }
   ],
   "source": [
    "#rather than doing each data seperately a batch of inputs is taken to get the best line of fit\n",
    "import numpy as np\n",
    "\n",
    "inputs = [\n",
    "            [1.0, 2.0, 3.0, 2.5],\n",
    "            [2.0, 5.0, -1.0, 2.0],\n",
    "            [-1.5, 2.7, 3.3, -0.8]\n",
    "         ] # 3 x 4 matrix batch of inputs for a 3 neurons\n",
    "weights = [\n",
    "            [0.2, 0.8, -0.5, 1.0],\n",
    "            [0.5, -0.91, 0.26, -0.5],\n",
    "            [-0.26, -0.27, 0.17, 0.87]\n",
    "          ] # 3 x 4 matrix batch of weights for a 3 neuron\n",
    "\n",
    "biases = [2.0, 3.0 ,0.5]\n",
    "print(inputs)\n",
    "print(weights)"
   ]
  },
  {
   "cell_type": "code",
   "execution_count": 8,
   "id": "82e232a5-2676-42d1-a195-16c7ac41bb2d",
   "metadata": {},
   "outputs": [
    {
     "name": "stdout",
     "output_type": "stream",
     "text": [
      "[[ 4.8    1.21   2.385]\n",
      " [ 8.9   -1.81   0.2  ]\n",
      " [ 1.41   1.051  0.026]]\n"
     ]
    }
   ],
   "source": [
    "# Now to get the final output for each of the neuron for each inputs \n",
    "layers_output = np.dot(inputs, np.array(weights).T) + biases\n",
    "\n",
    "# The first row indicates the output from the 3 neurons for input1\n",
    "# The second row indicates the output from the 3 neurons for input2\n",
    "# The third row indicates the output from the 3 neurons for input3\n",
    "print(layers_output)\n",
    "\n",
    "# So in this way a batch of inputs is computed for a single layer."
   ]
  },
  {
   "cell_type": "code",
   "execution_count": null,
   "id": "1f8a82c9-64f0-4ae1-88ec-9c350dba4970",
   "metadata": {},
   "outputs": [],
   "source": []
  }
 ],
 "metadata": {
  "kernelspec": {
   "display_name": "Python 3 (ipykernel)",
   "language": "python",
   "name": "python3"
  },
  "language_info": {
   "codemirror_mode": {
    "name": "ipython",
    "version": 3
   },
   "file_extension": ".py",
   "mimetype": "text/x-python",
   "name": "python",
   "nbconvert_exporter": "python",
   "pygments_lexer": "ipython3",
   "version": "3.11.5"
  }
 },
 "nbformat": 4,
 "nbformat_minor": 5
}
