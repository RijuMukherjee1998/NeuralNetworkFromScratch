{
 "cells": [
  {
   "cell_type": "code",
   "execution_count": 5,
   "id": "72b223c1-8406-465d-bd57-f7ea559149cf",
   "metadata": {
    "editable": true,
    "slideshow": {
     "slide_type": ""
    },
    "tags": []
   },
   "outputs": [
    {
     "name": "stdout",
     "output_type": "stream",
     "text": [
      "Inputs =  [1, 2, 3]\n",
      "Weights =  [0.2, 0.8, -0.5]\n",
      "Bias =  2\n"
     ]
    }
   ],
   "source": [
    "# Inputs, weights, and bias as input for the first neuron\n",
    "inputs = [1, 2, 3]\n",
    "print(\"Inputs = \",inputs)\n",
    "\n",
    "weights = [0.2, 0.8, -0.5]\n",
    "print(\"Weights = \",weights)\n",
    "\n",
    "bias = 2\n",
    "print(\"Bias = \",bias)\n",
    "\n"
   ]
  },
  {
   "cell_type": "code",
   "execution_count": 6,
   "id": "e24fcdd3-c571-4a0a-af88-de5892c41589",
   "metadata": {},
   "outputs": [
    {
     "name": "stdout",
     "output_type": "stream",
     "text": [
      "2.3\n"
     ]
    }
   ],
   "source": [
    "# Output from the neuron\n",
    "output = (inputs[0]*weights[0]+\n",
    "          inputs[1]*weights[1]+\n",
    "          inputs[2]*weights[2]+ bias)\n",
    "print(output)"
   ]
  },
  {
   "cell_type": "code",
   "execution_count": 7,
   "id": "4a492510-305e-4739-87de-078a9b79becf",
   "metadata": {},
   "outputs": [
    {
     "name": "stdout",
     "output_type": "stream",
     "text": [
      "Inputs =  [1.0, 2.0, 3.0, 2.5]\n",
      "Weights =  [0.2, 0.8, -0.5, 1.0]\n",
      "Bias =  2.0\n"
     ]
    }
   ],
   "source": [
    "# Inputs , weights and bias as input for the neuron with 4 inputs\n",
    "inputs = [1.0, 2.0, 3.0, 2.5]\n",
    "print(\"Inputs = \",inputs)\n",
    "\n",
    "weights = [0.2, 0.8, -0.5, 1.0]\n",
    "print(\"Weights = \",weights)\n",
    "\n",
    "bias = 2.0\n",
    "print(\"Bias = \",bias)\n"
   ]
  },
  {
   "cell_type": "code",
   "execution_count": 8,
   "id": "c2a09f9c-2ab5-4ff0-be47-93e236de7f8a",
   "metadata": {},
   "outputs": [
    {
     "name": "stdout",
     "output_type": "stream",
     "text": [
      "4.8\n"
     ]
    }
   ],
   "source": [
    "# Output from the neuron\n",
    "output = (inputs[0]*weights[0]+\n",
    "          inputs[1]*weights[1]+\n",
    "          inputs[2]*weights[2]+\n",
    "          inputs[3]*weights[3]+ bias)\n",
    "print(output)"
   ]
  },
  {
   "cell_type": "code",
   "execution_count": null,
   "id": "4bd6a2f7-cccd-4e82-8962-62598ffc805b",
   "metadata": {},
   "outputs": [],
   "source": []
  }
 ],
 "metadata": {
  "kernelspec": {
   "display_name": "Python 3 (ipykernel)",
   "language": "python",
   "name": "python3"
  },
  "language_info": {
   "codemirror_mode": {
    "name": "ipython",
    "version": 3
   },
   "file_extension": ".py",
   "mimetype": "text/x-python",
   "name": "python",
   "nbconvert_exporter": "python",
   "pygments_lexer": "ipython3",
   "version": "3.9.1"
  }
 },
 "nbformat": 4,
 "nbformat_minor": 5
}
