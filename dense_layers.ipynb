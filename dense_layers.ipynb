{
 "cells": [
  {
   "cell_type": "code",
   "execution_count": null,
   "id": "a2461090-51c1-4a35-8811-d76ee5dcb11a",
   "metadata": {},
   "outputs": [],
   "source": [
    "#Dense Layer N/W or Fully Connected N/W"
   ]
  },
  {
   "cell_type": "code",
   "execution_count": 14,
   "id": "d5a458ab-3806-4102-b068-932cc5eae0e7",
   "metadata": {},
   "outputs": [],
   "source": [
    "import numpy as np\n",
    "import nnfs\n",
    "from nnfs.datasets import spiral_data\n",
    "\n",
    "nnfs.init()\n",
    "\n",
    "class Layer_Dense:\n",
    "    def __init__(self, n_inputs, n_neurons):\n",
    "        #Initialize weights and biases\n",
    "        #np.random.randn is a gaussian distribution which will provide values between -1 and 1 and 0.01 is multiplied to make the values smaller \n",
    "        # and close to each other thus fitting of data will be easier during training\n",
    "        self.weights = 0.01 * np.random.randn(n_inputs, n_neurons) #To avoid transposing every time (inputs, neurons) is used rather than (neurons, inputs) \n",
    "        self.biases = np.zeros((1, n_neurons)) #default bias initialization\n",
    "        pass\n",
    "        \n",
    "    def forward(self, inputs):\n",
    "        #Calculate output values from inputs,weights and biases\n",
    "        print(\"Weights are = \",self.weights)\n",
    "        print(\"Biases are = \",self.biases)\n",
    "        self.output = np.dot(inputs, self.weights) + self.biases\n",
    "        pass"
   ]
  },
  {
   "cell_type": "code",
   "execution_count": 19,
   "id": "0a8eb14a-f570-4f47-b895-2aeb9c961c5f",
   "metadata": {},
   "outputs": [
    {
     "name": "stdout",
     "output_type": "stream",
     "text": [
      "Weights are =  [[ 0.0002751   0.02232016 -0.0010498 ]\n",
      " [ 0.01367415 -0.01655344  0.00153644]]\n",
      "Biases are =  [[0. 0. 0.]]\n",
      "[[ 0.0000000e+00  0.0000000e+00  0.0000000e+00]\n",
      " [ 1.2344425e-04 -4.2612613e-05  8.7741073e-06]\n",
      " [ 2.5981691e-04 -1.5019374e-04  2.1353657e-05]\n",
      " [ 4.0532288e-04 -3.3390927e-04  3.8064085e-05]\n",
      " [ 5.5259373e-04 -6.4534455e-04  6.0963972e-05]]\n"
     ]
    }
   ],
   "source": [
    "#Create dataset\n",
    "X, y = spiral_data(samples=100, classes=3)\n",
    "\n",
    "#creating a dense layer with 2 input feature(size of each input = 2) and 3 output values(3 neurons)\n",
    "neurons_layer1 = 3\n",
    "dense_layer1 = Layer_Dense(len(X[0]), neurons_layer1)\n",
    "\n",
    "dense_layer1.forward(X[:5]) #Takes only 5 rows of data or input-batch of 5 data rows \n",
    "\n",
    "print(dense_layer1.output) #For every input batch what is the value from each neuron(3 neurons (columns))\n"
   ]
  },
  {
   "cell_type": "code",
   "execution_count": null,
   "id": "5c5d8b30-ecfe-488c-ae2b-a077c3a1d914",
   "metadata": {},
   "outputs": [],
   "source": []
  }
 ],
 "metadata": {
  "kernelspec": {
   "display_name": "Python 3 (ipykernel)",
   "language": "python",
   "name": "python3"
  },
  "language_info": {
   "codemirror_mode": {
    "name": "ipython",
    "version": 3
   },
   "file_extension": ".py",
   "mimetype": "text/x-python",
   "name": "python",
   "nbconvert_exporter": "python",
   "pygments_lexer": "ipython3",
   "version": "3.11.5"
  }
 },
 "nbformat": 4,
 "nbformat_minor": 5
}
