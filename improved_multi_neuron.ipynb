{
 "cells": [
  {
   "cell_type": "code",
   "execution_count": 7,
   "id": "e27c8338-a390-4f6c-baa6-d5b4bf380484",
   "metadata": {},
   "outputs": [
    {
     "name": "stdout",
     "output_type": "stream",
     "text": [
      "Input to the neurons =  [1, 2, 3, 2.5]\n",
      "Weights for Neurons 1, 2 and 3 respectively = [[0.2, 0.8, -0.5, 1], [0.5, -0.91, 0.26, -0.5], [-0.26, -0.27, 0.17, 0.87]]\n",
      "Bias for Neurons 1, 2 and 3 respectively =  [2.0, 3.0, 0.5]\n"
     ]
    }
   ],
   "source": [
    "# 3 neurons with 4 inputs each\n",
    "inputs = [1, 2, 3, 2.5]\n",
    "\n",
    "weights = [[0.2, 0.8, -0.5, 1],  #----> Neuron1\n",
    "           [0.5, -0.91, 0.26, -0.5], #----> Neuron2\n",
    "           [-0.26, -0.27, 0.17, 0.87]] #---> Neuron3\n",
    "\n",
    "biases = [2.0, 3.0, 0.5]\n",
    "\n",
    "print(\"Input to the neurons = \",inputs)\n",
    "print(\"Weights for Neurons 1, 2 and 3 respectively =\", weights)\n",
    "print(\"Bias for Neurons 1, 2 and 3 respectively = \", biases)"
   ]
  },
  {
   "cell_type": "code",
   "execution_count": 8,
   "id": "9c5eb06f-b485-4214-b9ee-591ba935bcc8",
   "metadata": {},
   "outputs": [
    {
     "name": "stdout",
     "output_type": "stream",
     "text": [
      "[4.8, 1.21, 2.385]\n"
     ]
    }
   ],
   "source": [
    "#output for the current layer\n",
    "layer_outputs = []\n",
    "\n",
    "# For each neuron\n",
    "for neuron_weights, neuron_bias in zip(weights, biases):\n",
    "    \n",
    "    neuron_output = 0\n",
    "    \n",
    "    for n_inp, weight in zip(inputs, neuron_weights):\n",
    "        neuron_output += n_inp*weight\n",
    "    \n",
    "    neuron_output += neuron_bias\n",
    "    \n",
    "    layer_outputs.append(neuron_output)\n",
    "\n",
    "print(layer_outputs)"
   ]
  },
  {
   "cell_type": "code",
   "execution_count": null,
   "id": "f1e6f995-56fd-491a-ab97-a1f06893196f",
   "metadata": {},
   "outputs": [],
   "source": []
  }
 ],
 "metadata": {
  "kernelspec": {
   "display_name": "Python 3 (ipykernel)",
   "language": "python",
   "name": "python3"
  },
  "language_info": {
   "codemirror_mode": {
    "name": "ipython",
    "version": 3
   },
   "file_extension": ".py",
   "mimetype": "text/x-python",
   "name": "python",
   "nbconvert_exporter": "python",
   "pygments_lexer": "ipython3",
   "version": "3.9.1"
  }
 },
 "nbformat": 4,
 "nbformat_minor": 5
}
