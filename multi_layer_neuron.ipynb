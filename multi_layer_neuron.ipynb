{
 "cells": [
  {
   "cell_type": "code",
   "execution_count": null,
   "id": "97718ac6-dc41-44a1-8baa-6ba91149e656",
   "metadata": {},
   "outputs": [],
   "source": [
    "# 2-Hidden layer neural network"
   ]
  },
  {
   "cell_type": "code",
   "execution_count": 3,
   "id": "af0220be-14c2-4a76-b137-84d51579f412",
   "metadata": {},
   "outputs": [
    {
     "name": "stdout",
     "output_type": "stream",
     "text": [
      "Input Batch =  [[1.0, 2.0, 3.0, 2.5], [2.0, 5.0, -1.0, 2.0], [-1.5, 2.7, 3.3, -0.8]]\n",
      "Weights for Layer1 =  [[0.2, 0.8, -0.5, 1.0], [0.5, -0.91, 0.26, -0.5], [-0.26, -0.27, 0.17, 0.87]]\n",
      "Biases for Layer1 =  [2.0, 3.0, 0.5]\n"
     ]
    }
   ],
   "source": [
    "import numpy as np\n",
    "\n",
    "#consider each row of input as a feature that is represented by numbers\n",
    "input_batch1 = [\n",
    "            [1.0, 2.0, 3.0, 2.5],\n",
    "            [2.0, 5.0, -1.0, 2.0],\n",
    "            [-1.5, 2.7, 3.3, -0.8]\n",
    "         ] # 3 x 4 matrix batch of inputs for a 3 neurons\n",
    "\n",
    "#weights for layer 1\n",
    "weights1 = [\n",
    "            [0.2, 0.8, -0.5, 1.0],\n",
    "            [0.5, -0.91, 0.26, -0.5],\n",
    "            [-0.26, -0.27, 0.17, 0.87]\n",
    "          ] # 3 x 4 matrix batch of weights for a 3 neuron\n",
    "\n",
    "#biases for layer 1\n",
    "biases1 = [2.0, 3.0 ,0.5]\n",
    "\n",
    "\n",
    "print(\"Input Batch = \",input_batch)\n",
    "print(\"Weights for Layer1 = \",weights1)\n",
    "print(\"Biases for Layer1 = \",biases1)"
   ]
  },
  {
   "cell_type": "code",
   "execution_count": 4,
   "id": "a4644c4c-4f5d-4fe3-8360-e60b1cdb604e",
   "metadata": {},
   "outputs": [
    {
     "name": "stdout",
     "output_type": "stream",
     "text": [
      "[[ 4.8    1.21   2.385]\n",
      " [ 8.9   -1.81   0.2  ]\n",
      " [ 1.41   1.051  0.026]]\n"
     ]
    }
   ],
   "source": [
    "#Output from layer 1\n",
    "layer1_outputs = np.dot(input_batch1, np.array(weights1).T) + biases1\n",
    "print(layer1_outputs)"
   ]
  },
  {
   "cell_type": "code",
   "execution_count": 5,
   "id": "929e8b05-2dd7-438b-8b95-6095700722c8",
   "metadata": {},
   "outputs": [
    {
     "name": "stdout",
     "output_type": "stream",
     "text": [
      "[[ 0.5031  -1.04185 -2.03875]\n",
      " [ 0.2434  -2.7332  -5.7633 ]\n",
      " [-0.99314  1.41254 -0.35655]]\n"
     ]
    }
   ],
   "source": [
    "#output from layer1 = input to layer2\n",
    "input_batch2 = layer1_outputs\n",
    "\n",
    "weights2 = [\n",
    "            [0.1, -0.14, 0.5],\n",
    "            [-0.5, 0.12, -0.33],\n",
    "            [-0.44, 0.73, -0.13]\n",
    "           ]\n",
    "biases2 = [-1, 2, -0.5]\n",
    "\n",
    "layer2_outputs = np.dot(input_batch2, np.array(weights2).T) + biases2\n",
    "print(layer2_outputs)"
   ]
  },
  {
   "cell_type": "code",
   "execution_count": null,
   "id": "d9c2429e-f8dd-4735-9907-1a507c9db8f6",
   "metadata": {},
   "outputs": [],
   "source": []
  }
 ],
 "metadata": {
  "kernelspec": {
   "display_name": "Python 3 (ipykernel)",
   "language": "python",
   "name": "python3"
  },
  "language_info": {
   "codemirror_mode": {
    "name": "ipython",
    "version": 3
   },
   "file_extension": ".py",
   "mimetype": "text/x-python",
   "name": "python",
   "nbconvert_exporter": "python",
   "pygments_lexer": "ipython3",
   "version": "3.11.5"
  }
 },
 "nbformat": 4,
 "nbformat_minor": 5
}
