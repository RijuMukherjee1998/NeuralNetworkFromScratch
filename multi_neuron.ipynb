{
 "cells": [
  {
   "cell_type": "code",
   "execution_count": 5,
   "id": "b88ae2c6-f513-4859-a5cd-25931b59e8af",
   "metadata": {},
   "outputs": [
    {
     "name": "stdout",
     "output_type": "stream",
     "text": [
      "Input to the neurons =  [1, 2, 3, 2.5]\n",
      "Weights for Neuron 1 = [0.2, 0.8, -0.5, 1]\n",
      "Weights for Neuron 2 = [0.5, -0.91, 0.26, -0.5]\n",
      "Weights for Neuron 3 = [-0.26, -0.27, 0.17, 0.87]\n",
      "Bias for Neurons 1, 2 and 3 respectively =  [2, 3, 0.5]\n"
     ]
    }
   ],
   "source": [
    "# 3 neurons with 4 inputs each\n",
    "inputs = [1, 2, 3, 2.5]\n",
    "\n",
    "weights1 = [0.2, 0.8, -0.5, 1]\n",
    "weights2 = [0.5, -0.91, 0.26, -0.5]\n",
    "weights3 = [-0.26, -0.27, 0.17, 0.87]\n",
    "\n",
    "bias1 = 2\n",
    "bias2 = 3\n",
    "bias3 = 0.5\n",
    "\n",
    "\n",
    "print(\"Input to the neurons = \",inputs)\n",
    "print(\"Weights for Neuron 1 =\", weights1)\n",
    "print(\"Weights for Neuron 2 =\", weights2)\n",
    "print(\"Weights for Neuron 3 =\", weights3)\n",
    "print(\"Bias for Neurons 1, 2 and 3 respectively = \",[bias1, bias2, bias3])\n"
   ]
  },
  {
   "cell_type": "code",
   "execution_count": 4,
   "id": "ba54c6dd-f185-430e-ba76-d8d20d45f689",
   "metadata": {},
   "outputs": [
    {
     "name": "stdout",
     "output_type": "stream",
     "text": [
      "[4.8, 1.21, 2.385]\n"
     ]
    }
   ],
   "source": [
    "outputs = [\n",
    "    # Neuron 1:\n",
    "    inputs[0]*weights1[0] +\n",
    "    inputs[1]*weights1[1] +\n",
    "    inputs[2]*weights1[2] +\n",
    "    inputs[3]*weights1[3] + bias1,\n",
    "\n",
    "     # Neuron 2:\n",
    "    inputs[0]*weights2[0] +\n",
    "    inputs[1]*weights2[1] +\n",
    "    inputs[2]*weights2[2] +\n",
    "    inputs[3]*weights2[3] + bias2,\n",
    "\n",
    "     # Neuron 3:\n",
    "    inputs[0]*weights3[0] +\n",
    "    inputs[1]*weights3[1] +\n",
    "    inputs[2]*weights3[2] +\n",
    "    inputs[3]*weights3[3] + bias3,\n",
    "    \n",
    "]\n",
    "print(outputs)"
   ]
  },
  {
   "cell_type": "code",
   "execution_count": null,
   "id": "040a39b6-584f-4be7-89f7-b651729c41d0",
   "metadata": {},
   "outputs": [],
   "source": []
  }
 ],
 "metadata": {
  "kernelspec": {
   "display_name": "Python 3 (ipykernel)",
   "language": "python",
   "name": "python3"
  },
  "language_info": {
   "codemirror_mode": {
    "name": "ipython",
    "version": 3
   },
   "file_extension": ".py",
   "mimetype": "text/x-python",
   "name": "python",
   "nbconvert_exporter": "python",
   "pygments_lexer": "ipython3",
   "version": "3.9.1"
  }
 },
 "nbformat": 4,
 "nbformat_minor": 5
}
